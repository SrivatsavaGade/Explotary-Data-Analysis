{
 "cells": [
  {
   "cell_type": "code",
   "execution_count": 1,
   "id": "ae87120b",
   "metadata": {},
   "outputs": [
    {
     "data": {
      "text/html": [
       "<div>\n",
       "<style scoped>\n",
       "    .dataframe tbody tr th:only-of-type {\n",
       "        vertical-align: middle;\n",
       "    }\n",
       "\n",
       "    .dataframe tbody tr th {\n",
       "        vertical-align: top;\n",
       "    }\n",
       "\n",
       "    .dataframe thead th {\n",
       "        text-align: right;\n",
       "    }\n",
       "</style>\n",
       "<table border=\"1\" class=\"dataframe\">\n",
       "  <thead>\n",
       "    <tr style=\"text-align: right;\">\n",
       "      <th></th>\n",
       "      <th>brand</th>\n",
       "      <th>model</th>\n",
       "      <th>base_color</th>\n",
       "      <th>processor</th>\n",
       "      <th>screen_size</th>\n",
       "      <th>ROM</th>\n",
       "      <th>RAM</th>\n",
       "      <th>display_size</th>\n",
       "      <th>num_rear_camera</th>\n",
       "      <th>num_front_camera</th>\n",
       "      <th>battery_capacity</th>\n",
       "      <th>ratings</th>\n",
       "      <th>num_of_ratings</th>\n",
       "      <th>sales_price</th>\n",
       "      <th>discount_percent</th>\n",
       "      <th>sales</th>\n",
       "    </tr>\n",
       "  </thead>\n",
       "  <tbody>\n",
       "    <tr>\n",
       "      <th>0</th>\n",
       "      <td>Apple</td>\n",
       "      <td>iPhone SE</td>\n",
       "      <td>Black</td>\n",
       "      <td>Water</td>\n",
       "      <td>Very Small</td>\n",
       "      <td>64</td>\n",
       "      <td>4</td>\n",
       "      <td>4.7</td>\n",
       "      <td>1</td>\n",
       "      <td>1</td>\n",
       "      <td>1800</td>\n",
       "      <td>4.5</td>\n",
       "      <td>38645</td>\n",
       "      <td>32999</td>\n",
       "      <td>0.17</td>\n",
       "      <td>127.52</td>\n",
       "    </tr>\n",
       "    <tr>\n",
       "      <th>1</th>\n",
       "      <td>Apple</td>\n",
       "      <td>iPhone 12 Mini</td>\n",
       "      <td>Red</td>\n",
       "      <td>Ceramic</td>\n",
       "      <td>Small</td>\n",
       "      <td>64</td>\n",
       "      <td>6</td>\n",
       "      <td>5.4</td>\n",
       "      <td>2</td>\n",
       "      <td>1</td>\n",
       "      <td>2815</td>\n",
       "      <td>4.5</td>\n",
       "      <td>244</td>\n",
       "      <td>57149</td>\n",
       "      <td>0.04</td>\n",
       "      <td>1.39</td>\n",
       "    </tr>\n",
       "    <tr>\n",
       "      <th>2</th>\n",
       "      <td>Apple</td>\n",
       "      <td>iPhone SE</td>\n",
       "      <td>Red</td>\n",
       "      <td>Water</td>\n",
       "      <td>Very Small</td>\n",
       "      <td>64</td>\n",
       "      <td>4</td>\n",
       "      <td>4.7</td>\n",
       "      <td>1</td>\n",
       "      <td>1</td>\n",
       "      <td>1800</td>\n",
       "      <td>4.5</td>\n",
       "      <td>38645</td>\n",
       "      <td>32999</td>\n",
       "      <td>0.17</td>\n",
       "      <td>127.52</td>\n",
       "    </tr>\n",
       "    <tr>\n",
       "      <th>427</th>\n",
       "      <td>Xiaomi</td>\n",
       "      <td>Mi 11 Lite</td>\n",
       "      <td>Others</td>\n",
       "      <td>Qualcomm</td>\n",
       "      <td>Large</td>\n",
       "      <td>128</td>\n",
       "      <td>6</td>\n",
       "      <td>6.5</td>\n",
       "      <td>3</td>\n",
       "      <td>1</td>\n",
       "      <td>4250</td>\n",
       "      <td>4.2</td>\n",
       "      <td>1554</td>\n",
       "      <td>21999</td>\n",
       "      <td>0.12</td>\n",
       "      <td>3.42</td>\n",
       "    </tr>\n",
       "    <tr>\n",
       "      <th>428</th>\n",
       "      <td>Xiaomi</td>\n",
       "      <td>Redmi 8A Dual</td>\n",
       "      <td>Blue</td>\n",
       "      <td>Qualcomm</td>\n",
       "      <td>Medium</td>\n",
       "      <td>32</td>\n",
       "      <td>4</td>\n",
       "      <td>6.2</td>\n",
       "      <td>2</td>\n",
       "      <td>1</td>\n",
       "      <td>5000</td>\n",
       "      <td>4.2</td>\n",
       "      <td>8161</td>\n",
       "      <td>8299</td>\n",
       "      <td>0.07</td>\n",
       "      <td>6.77</td>\n",
       "    </tr>\n",
       "    <tr>\n",
       "      <th>429</th>\n",
       "      <td>Xiaomi</td>\n",
       "      <td>Redmi 6 Pro</td>\n",
       "      <td>Blue</td>\n",
       "      <td>Qualcomm</td>\n",
       "      <td>Small</td>\n",
       "      <td>32</td>\n",
       "      <td>4</td>\n",
       "      <td>5.8</td>\n",
       "      <td>2</td>\n",
       "      <td>1</td>\n",
       "      <td>4000</td>\n",
       "      <td>4.3</td>\n",
       "      <td>1870</td>\n",
       "      <td>8190</td>\n",
       "      <td>0.36</td>\n",
       "      <td>1.53</td>\n",
       "    </tr>\n",
       "  </tbody>\n",
       "</table>\n",
       "</div>"
      ],
      "text/plain": [
       "      brand           model base_color processor screen_size  ROM  RAM  \\\n",
       "0     Apple       iPhone SE      Black     Water  Very Small   64    4   \n",
       "1     Apple  iPhone 12 Mini        Red   Ceramic       Small   64    6   \n",
       "2     Apple       iPhone SE        Red     Water  Very Small   64    4   \n",
       "427  Xiaomi      Mi 11 Lite     Others  Qualcomm       Large  128    6   \n",
       "428  Xiaomi   Redmi 8A Dual       Blue  Qualcomm      Medium   32    4   \n",
       "429  Xiaomi     Redmi 6 Pro       Blue  Qualcomm       Small   32    4   \n",
       "\n",
       "     display_size  num_rear_camera  num_front_camera  battery_capacity  \\\n",
       "0             4.7                1                 1              1800   \n",
       "1             5.4                2                 1              2815   \n",
       "2             4.7                1                 1              1800   \n",
       "427           6.5                3                 1              4250   \n",
       "428           6.2                2                 1              5000   \n",
       "429           5.8                2                 1              4000   \n",
       "\n",
       "     ratings  num_of_ratings  sales_price  discount_percent   sales  \n",
       "0        4.5           38645        32999              0.17  127.52  \n",
       "1        4.5             244        57149              0.04    1.39  \n",
       "2        4.5           38645        32999              0.17  127.52  \n",
       "427      4.2            1554        21999              0.12    3.42  \n",
       "428      4.2            8161         8299              0.07    6.77  \n",
       "429      4.3            1870         8190              0.36    1.53  "
      ]
     },
     "execution_count": 1,
     "metadata": {},
     "output_type": "execute_result"
    }
   ],
   "source": [
    "import pandas as pd\n",
    "import matplotlib.pyplot as plt\n",
    "import seaborn as sns\n",
    "import numpy as np\n",
    "from statsmodels.stats.outliers_influence import variance_inflation_factor\n",
    "file = pd.read_csv(\"juxtaposition.csv\")\n",
    "file.head(3).append(file.tail(3))"
   ]
  },
  {
   "cell_type": "markdown",
   "id": "b94fa9cd",
   "metadata": {},
   "source": [
    "<h4> INFERING THE DATA BY GROUPING IT TO:\n",
    "    CATEGORICAL AND NUMERICAL_FEATUERS"
   ]
  },
  {
   "cell_type": "code",
   "execution_count": 2,
   "id": "d2f10018",
   "metadata": {},
   "outputs": [
    {
     "name": "stdout",
     "output_type": "stream",
     "text": [
      "numerical_features:  (430, 11) Index(['ROM', 'RAM', 'display_size', 'num_rear_camera', 'num_front_camera',\n",
      "       'battery_capacity', 'ratings', 'num_of_ratings', 'sales_price',\n",
      "       'discount_percent', 'sales'],\n",
      "      dtype='object')\n",
      "categorical_feauters:  (430, 5) Index(['brand', 'model', 'base_color', 'processor', 'screen_size'], dtype='object')\n"
     ]
    }
   ],
   "source": [
    "import warnings\n",
    "warnings.filterwarnings('ignore')\n",
    "numerical_features=file.select_dtypes(include=np.number)\n",
    "categorical_features=file.select_dtypes(include=np.object)\n",
    "print(\"numerical_features: \", numerical_features.shape, numerical_features.columns)\n",
    "print(\"categorical_feauters: \", categorical_features.shape, categorical_features.columns)"
   ]
  },
  {
   "cell_type": "markdown",
   "id": "c1239708",
   "metadata": {},
   "source": [
    "<h4 align = 'center'> NUMERICAL_FEATURES "
   ]
  },
  {
   "cell_type": "code",
   "execution_count": 3,
   "id": "676b022b",
   "metadata": {},
   "outputs": [
    {
     "data": {
      "text/html": [
       "<div>\n",
       "<style scoped>\n",
       "    .dataframe tbody tr th:only-of-type {\n",
       "        vertical-align: middle;\n",
       "    }\n",
       "\n",
       "    .dataframe tbody tr th {\n",
       "        vertical-align: top;\n",
       "    }\n",
       "\n",
       "    .dataframe thead th {\n",
       "        text-align: right;\n",
       "    }\n",
       "</style>\n",
       "<table border=\"1\" class=\"dataframe\">\n",
       "  <thead>\n",
       "    <tr style=\"text-align: right;\">\n",
       "      <th></th>\n",
       "      <th>ROM</th>\n",
       "      <th>RAM</th>\n",
       "      <th>display_size</th>\n",
       "      <th>num_rear_camera</th>\n",
       "      <th>num_front_camera</th>\n",
       "      <th>battery_capacity</th>\n",
       "      <th>ratings</th>\n",
       "      <th>num_of_ratings</th>\n",
       "      <th>sales_price</th>\n",
       "      <th>discount_percent</th>\n",
       "      <th>sales</th>\n",
       "    </tr>\n",
       "  </thead>\n",
       "  <tbody>\n",
       "    <tr>\n",
       "      <th>count</th>\n",
       "      <td>430.000000</td>\n",
       "      <td>430.000000</td>\n",
       "      <td>430.000000</td>\n",
       "      <td>430.000000</td>\n",
       "      <td>430.000000</td>\n",
       "      <td>430.000000</td>\n",
       "      <td>430.000000</td>\n",
       "      <td>430.000000</td>\n",
       "      <td>430.000000</td>\n",
       "      <td>430.000000</td>\n",
       "      <td>430.000000</td>\n",
       "    </tr>\n",
       "    <tr>\n",
       "      <th>mean</th>\n",
       "      <td>105.748837</td>\n",
       "      <td>5.769767</td>\n",
       "      <td>6.369767</td>\n",
       "      <td>2.904651</td>\n",
       "      <td>1.044186</td>\n",
       "      <td>4529.397674</td>\n",
       "      <td>4.339302</td>\n",
       "      <td>23567.944186</td>\n",
       "      <td>25433.234884</td>\n",
       "      <td>0.108000</td>\n",
       "      <td>29.752326</td>\n",
       "    </tr>\n",
       "    <tr>\n",
       "      <th>std</th>\n",
       "      <td>63.164064</td>\n",
       "      <td>1.847450</td>\n",
       "      <td>0.369549</td>\n",
       "      <td>0.952350</td>\n",
       "      <td>0.227280</td>\n",
       "      <td>986.907252</td>\n",
       "      <td>0.151494</td>\n",
       "      <td>56096.277784</td>\n",
       "      <td>22471.926588</td>\n",
       "      <td>0.073432</td>\n",
       "      <td>58.399588</td>\n",
       "    </tr>\n",
       "    <tr>\n",
       "      <th>min</th>\n",
       "      <td>8.000000</td>\n",
       "      <td>3.000000</td>\n",
       "      <td>4.700000</td>\n",
       "      <td>1.000000</td>\n",
       "      <td>1.000000</td>\n",
       "      <td>1800.000000</td>\n",
       "      <td>3.000000</td>\n",
       "      <td>4.000000</td>\n",
       "      <td>5742.000000</td>\n",
       "      <td>0.010000</td>\n",
       "      <td>0.000000</td>\n",
       "    </tr>\n",
       "    <tr>\n",
       "      <th>25%</th>\n",
       "      <td>64.000000</td>\n",
       "      <td>4.000000</td>\n",
       "      <td>6.300000</td>\n",
       "      <td>2.000000</td>\n",
       "      <td>1.000000</td>\n",
       "      <td>4000.000000</td>\n",
       "      <td>4.300000</td>\n",
       "      <td>745.000000</td>\n",
       "      <td>11999.000000</td>\n",
       "      <td>0.060000</td>\n",
       "      <td>1.640000</td>\n",
       "    </tr>\n",
       "    <tr>\n",
       "      <th>50%</th>\n",
       "      <td>128.000000</td>\n",
       "      <td>6.000000</td>\n",
       "      <td>6.500000</td>\n",
       "      <td>3.000000</td>\n",
       "      <td>1.000000</td>\n",
       "      <td>4500.000000</td>\n",
       "      <td>4.300000</td>\n",
       "      <td>5197.500000</td>\n",
       "      <td>16989.500000</td>\n",
       "      <td>0.090000</td>\n",
       "      <td>9.655000</td>\n",
       "    </tr>\n",
       "    <tr>\n",
       "      <th>75%</th>\n",
       "      <td>128.000000</td>\n",
       "      <td>6.000000</td>\n",
       "      <td>6.500000</td>\n",
       "      <td>4.000000</td>\n",
       "      <td>1.000000</td>\n",
       "      <td>5000.000000</td>\n",
       "      <td>4.400000</td>\n",
       "      <td>21089.250000</td>\n",
       "      <td>28999.000000</td>\n",
       "      <td>0.160000</td>\n",
       "      <td>29.717500</td>\n",
       "    </tr>\n",
       "    <tr>\n",
       "      <th>max</th>\n",
       "      <td>512.000000</td>\n",
       "      <td>12.000000</td>\n",
       "      <td>7.600000</td>\n",
       "      <td>4.000000</td>\n",
       "      <td>3.000000</td>\n",
       "      <td>7000.000000</td>\n",
       "      <td>4.600000</td>\n",
       "      <td>642373.000000</td>\n",
       "      <td>157999.000000</td>\n",
       "      <td>0.440000</td>\n",
       "      <td>550.190000</td>\n",
       "    </tr>\n",
       "  </tbody>\n",
       "</table>\n",
       "</div>"
      ],
      "text/plain": [
       "              ROM         RAM  display_size  num_rear_camera  \\\n",
       "count  430.000000  430.000000    430.000000       430.000000   \n",
       "mean   105.748837    5.769767      6.369767         2.904651   \n",
       "std     63.164064    1.847450      0.369549         0.952350   \n",
       "min      8.000000    3.000000      4.700000         1.000000   \n",
       "25%     64.000000    4.000000      6.300000         2.000000   \n",
       "50%    128.000000    6.000000      6.500000         3.000000   \n",
       "75%    128.000000    6.000000      6.500000         4.000000   \n",
       "max    512.000000   12.000000      7.600000         4.000000   \n",
       "\n",
       "       num_front_camera  battery_capacity     ratings  num_of_ratings  \\\n",
       "count        430.000000        430.000000  430.000000      430.000000   \n",
       "mean           1.044186       4529.397674    4.339302    23567.944186   \n",
       "std            0.227280        986.907252    0.151494    56096.277784   \n",
       "min            1.000000       1800.000000    3.000000        4.000000   \n",
       "25%            1.000000       4000.000000    4.300000      745.000000   \n",
       "50%            1.000000       4500.000000    4.300000     5197.500000   \n",
       "75%            1.000000       5000.000000    4.400000    21089.250000   \n",
       "max            3.000000       7000.000000    4.600000   642373.000000   \n",
       "\n",
       "         sales_price  discount_percent       sales  \n",
       "count     430.000000        430.000000  430.000000  \n",
       "mean    25433.234884          0.108000   29.752326  \n",
       "std     22471.926588          0.073432   58.399588  \n",
       "min      5742.000000          0.010000    0.000000  \n",
       "25%     11999.000000          0.060000    1.640000  \n",
       "50%     16989.500000          0.090000    9.655000  \n",
       "75%     28999.000000          0.160000   29.717500  \n",
       "max    157999.000000          0.440000  550.190000  "
      ]
     },
     "execution_count": 3,
     "metadata": {},
     "output_type": "execute_result"
    }
   ],
   "source": [
    "numerical_features.iloc[:,:11].describe()\n",
    "## iloc is used to coustomized set of data"
   ]
  },
  {
   "cell_type": "markdown",
   "id": "690143c1",
   "metadata": {},
   "source": [
    "<h4> SKEWNESS AND KURTOSIS"
   ]
  },
  {
   "cell_type": "code",
   "execution_count": 4,
   "id": "32168deb",
   "metadata": {},
   "outputs": [
    {
     "data": {
      "text/html": [
       "<div>\n",
       "<style scoped>\n",
       "    .dataframe tbody tr th:only-of-type {\n",
       "        vertical-align: middle;\n",
       "    }\n",
       "\n",
       "    .dataframe tbody tr th {\n",
       "        vertical-align: top;\n",
       "    }\n",
       "\n",
       "    .dataframe thead th {\n",
       "        text-align: right;\n",
       "    }\n",
       "</style>\n",
       "<table border=\"1\" class=\"dataframe\">\n",
       "  <thead>\n",
       "    <tr style=\"text-align: right;\">\n",
       "      <th></th>\n",
       "      <th>skewness</th>\n",
       "      <th>kurtosis</th>\n",
       "    </tr>\n",
       "  </thead>\n",
       "  <tbody>\n",
       "    <tr>\n",
       "      <th>ROM</th>\n",
       "      <td>1.495005</td>\n",
       "      <td>4.281648</td>\n",
       "    </tr>\n",
       "    <tr>\n",
       "      <th>RAM</th>\n",
       "      <td>1.069492</td>\n",
       "      <td>1.461831</td>\n",
       "    </tr>\n",
       "    <tr>\n",
       "      <th>display_size</th>\n",
       "      <td>-1.553612</td>\n",
       "      <td>5.152325</td>\n",
       "    </tr>\n",
       "    <tr>\n",
       "      <th>num_rear_camera</th>\n",
       "      <td>-0.459102</td>\n",
       "      <td>-0.759097</td>\n",
       "    </tr>\n",
       "    <tr>\n",
       "      <th>num_front_camera</th>\n",
       "      <td>5.590313</td>\n",
       "      <td>33.995688</td>\n",
       "    </tr>\n",
       "    <tr>\n",
       "      <th>battery_capacity</th>\n",
       "      <td>-0.283895</td>\n",
       "      <td>0.056628</td>\n",
       "    </tr>\n",
       "    <tr>\n",
       "      <th>ratings</th>\n",
       "      <td>-1.732396</td>\n",
       "      <td>14.043025</td>\n",
       "    </tr>\n",
       "    <tr>\n",
       "      <th>num_of_ratings</th>\n",
       "      <td>5.850073</td>\n",
       "      <td>47.930201</td>\n",
       "    </tr>\n",
       "    <tr>\n",
       "      <th>sales_price</th>\n",
       "      <td>2.595228</td>\n",
       "      <td>8.980504</td>\n",
       "    </tr>\n",
       "    <tr>\n",
       "      <th>discount_percent</th>\n",
       "      <td>1.301590</td>\n",
       "      <td>2.269150</td>\n",
       "    </tr>\n",
       "    <tr>\n",
       "      <th>sales</th>\n",
       "      <td>4.789041</td>\n",
       "      <td>31.586558</td>\n",
       "    </tr>\n",
       "  </tbody>\n",
       "</table>\n",
       "</div>"
      ],
      "text/plain": [
       "                  skewness   kurtosis\n",
       "ROM               1.495005   4.281648\n",
       "RAM               1.069492   1.461831\n",
       "display_size     -1.553612   5.152325\n",
       "num_rear_camera  -0.459102  -0.759097\n",
       "num_front_camera  5.590313  33.995688\n",
       "battery_capacity -0.283895   0.056628\n",
       "ratings          -1.732396  14.043025\n",
       "num_of_ratings    5.850073  47.930201\n",
       "sales_price       2.595228   8.980504\n",
       "discount_percent  1.301590   2.269150\n",
       "sales             4.789041  31.586558"
      ]
     },
     "execution_count": 4,
     "metadata": {},
     "output_type": "execute_result"
    }
   ],
   "source": [
    "pd.DataFrame({\"skewness\":file.skew(),\"kurtosis\":file.kurt()})"
   ]
  },
  {
   "cell_type": "markdown",
   "id": "593776f5",
   "metadata": {},
   "source": [
    "<h4>If skewness is less than −1 or greater than +1, the distribution is highly skewed. If skewness is between −1 and −½ or between +½ and +1, the distribution is moderately skewed. If skewness is between −½ and +½, the distribution is approximately symmetric"
   ]
  },
  {
   "cell_type": "code",
   "execution_count": 5,
   "id": "7fba73ae",
   "metadata": {},
   "outputs": [
    {
     "data": {
      "image/png": "[encoded data removed]",
      "text/plain": [
       "<Figure size 1440x1080 with 10 Axes>"
      ]
     },
     "metadata": {},
     "output_type": "display_data"
    }
   ],
   "source": [
    "fig, axs = plt.subplots(2,5, figsize=(20, 15), facecolor='w', edgecolor='k')\n",
    "fig.subplots_adjust(hspace = .5, wspace=.001)\n",
    "axs = axs.ravel()\n",
    "\n",
    "for i,j in zip([i for i in numerical_features.columns.to_list()[0:] if len(i) >0],range(10)):\n",
    "    axs[j].hist(numerical_features[i])\n",
    "    axs[j].set_title(i+': '+str(np.round(numerical_features[i].skew(),2)))\n",
    "## ravel is used for excluding comments..\n"
   ]
  },
  {
   "cell_type": "markdown",
   "id": "26f626b0",
   "metadata": {},
   "source": [
    "ROM: left skewed\n",
    "RAM:  it can be considered as categorical feautre \n",
    "display_size: right skewed \t\n",
    "num_rear_camera: it can be considered as categorical feautre  \t\n",
    "num_front_camera: it can be considered as categorical feautre\t\n",
    "battery_capacity: it is highly fluctuating\t\n",
    "ratings: right skewed \t\n",
    "num_of_ratings:left skewed\n",
    "sales_price: left skewed \n",
    "discount_percent: left skewed\n",
    "sales: left skewed"
   ]
  },
  {
   "cell_type": "markdown",
   "id": "29f9c971",
   "metadata": {},
   "source": [
    "<h4> BOX_PLOT"
   ]
  },
  {
   "cell_type": "code",
   "execution_count": 12,
   "id": "32543296",
   "metadata": {
    "scrolled": true
   },
   "outputs": [
    {
     "data": {
      "image/png": "[encoded data removed]",
      "text/plain": [
       "<Figure size 1008x1440 with 6 Axes>"
      ]
     },
     "metadata": {
      "needs_background": "light"
     },
     "output_type": "display_data"
    }
   ],
   "source": [
    "fig, ((ax1, ax2), (ax3, ax4), (ax5, ax6)) = plt.subplots(nrows=3, ncols=2, figsize=(14,20))\n",
    "AX = [ax1, ax2, ax3, ax4, ax5, ax6]\n",
    "for i,j in zip([i for i in numerical_features.columns.to_list()[1:8] if len(i)>3],AX):\n",
    "    sns.boxplot(x=i,y='sales_price',data=numerical_features,ax=j)"
   ]
  },
  {
   "cell_type": "markdown",
   "id": "f572d646",
   "metadata": {},
   "source": [
    "<H4> CORRELATION HEAT_MAP"
   ]
  },
  {
   "cell_type": "code",
   "execution_count": 13,
   "id": "1ba28a23",
   "metadata": {},
   "outputs": [
    {
     "data": {
      "text/plain": [
       "<AxesSubplot:>"
      ]
     },
     "execution_count": 13,
     "metadata": {},
     "output_type": "execute_result"
    },
    {
     "data": {
      "image/png": "[encoded data removed]",
      "text/plain": [
       "<Figure size 864x648 with 2 Axes>"
      ]
     },
     "metadata": {
      "needs_background": "light"
     },
     "output_type": "display_data"
    }
   ],
   "source": [
    "f, ax = plt.subplots(figsize=(12, 9))\n",
    "sns.heatmap(numerical_features.corr())"
   ]
  },
  {
   "cell_type": "markdown",
   "id": "269a8f1f",
   "metadata": {},
   "source": [
    "<H4> VARIANCE INFLATION FACTOR"
   ]
  },
  {
   "cell_type": "code",
   "execution_count": null,
   "id": "a2f255af",
   "metadata": {},
   "outputs": [],
   "source": [
    "vif = pd.DataFrame()\n",
    "vif[\"VIF Factor\"] = [variance_inflation_factor(numerical_features.values, i) for i in range(numerical_features.shape[1])]\n",
    "vif[\"features\"] = numerical_features.columns\n",
    "vif"
   ]
  },
  {
   "cell_type": "markdown",
   "id": "b78b47dd",
   "metadata": {},
   "source": [
    "<h4> HERE WE HAVE HIGH MULTI CORELATION BETWEEN DISPLAY SIZE AND RATINGS SO WE CAN NEGLECT EITHER ANYONE OF THEM"
   ]
  },
  {
   "cell_type": "markdown",
   "id": "def40d65",
   "metadata": {},
   "source": [
    "<H1>CATEGORICAL FEATURES"
   ]
  },
  {
   "cell_type": "markdown",
   "id": "946dadf2",
   "metadata": {},
   "source": [
    "<H4> DATA INTEGRITY AND DATA CLEANING FOR CATEGORICAL FEATURES"
   ]
  },
  {
   "cell_type": "code",
   "execution_count": 15,
   "id": "fb4618f3",
   "metadata": {},
   "outputs": [
    {
     "data": {
      "text/plain": [
       "((430, 5),\n",
       " Index(['brand', 'model', 'base_color', 'processor', 'screen_size'], dtype='object'))"
      ]
     },
     "execution_count": 15,
     "metadata": {},
     "output_type": "execute_result"
    }
   ],
   "source": [
    "categorical_features.shape, categorical_features.columns"
   ]
  },
  {
   "cell_type": "code",
   "execution_count": 16,
   "id": "d0b11307",
   "metadata": {},
   "outputs": [
    {
     "name": "stdout",
     "output_type": "stream",
     "text": [
      "Total unique values for brand 5\n",
      "Value Counts for brand \n",
      " Realme     138\n",
      "Samsung    119\n",
      "Xiaomi      61\n",
      "Apple       56\n",
      "Poco        56\n",
      "Name: brand, dtype: int64 \n",
      "\n",
      "Total unique values for model 119\n",
      "Value Counts for model \n",
      " iPhone XR            18\n",
      "iPhone 12            17\n",
      "iPhone 12 Mini       16\n",
      "GT Master Edition     9\n",
      "X3                    9\n",
      "                     ..\n",
      "Galaxy A7             1\n",
      "Galaxy Fold 2         1\n",
      "Galaxy M11            1\n",
      "6i                    1\n",
      "Redmi 5               1\n",
      "Name: model, Length: 119, dtype: int64 \n",
      "\n",
      "Total unique values for base_color 12\n",
      "Value Counts for base_color \n",
      " Blue      117\n",
      "Black     112\n",
      "White      44\n",
      "Silver     32\n",
      "Others     28\n",
      "Green      24\n",
      "Red        21\n",
      "Gray       20\n",
      "Yellow     11\n",
      "Gold       11\n",
      "Purple      5\n",
      "Bronze      5\n",
      "Name: base_color, dtype: int64 \n",
      "\n",
      "Total unique values for processor 7\n",
      "Value Counts for processor \n",
      " Qualcomm    168\n",
      "MediaTek    144\n",
      "Exynos       53\n",
      "Ceramic      33\n",
      "iOS          12\n",
      "Water        11\n",
      "Others        9\n",
      "Name: processor, dtype: int64 \n",
      "\n",
      "Total unique values for screen_size 5\n",
      "Value Counts for screen_size \n",
      " Large         242\n",
      "Medium        146\n",
      "Small          34\n",
      "Very Small      4\n",
      "Very Large      4\n",
      "Name: screen_size, dtype: int64 \n",
      "\n"
     ]
    }
   ],
   "source": [
    "for i in categorical_features.columns.to_list():\n",
    "    print(\"Total unique values for\",i,len(categorical_features[i].unique()))\n",
    "    print(\"Value Counts for\",i,'\\n',categorical_features[i].value_counts(),'\\n')"
   ]
  },
  {
   "cell_type": "code",
   "execution_count": 22,
   "id": "eb25f679",
   "metadata": {},
   "outputs": [
    {
     "data": {
      "text/html": [
       "<div>\n",
       "<style scoped>\n",
       "    .dataframe tbody tr th:only-of-type {\n",
       "        vertical-align: middle;\n",
       "    }\n",
       "\n",
       "    .dataframe tbody tr th {\n",
       "        vertical-align: top;\n",
       "    }\n",
       "\n",
       "    .dataframe thead th {\n",
       "        text-align: right;\n",
       "    }\n",
       "</style>\n",
       "<table border=\"1\" class=\"dataframe\">\n",
       "  <thead>\n",
       "    <tr style=\"text-align: right;\">\n",
       "      <th></th>\n",
       "      <th>brand</th>\n",
       "      <th>model</th>\n",
       "      <th>base_color</th>\n",
       "      <th>processor</th>\n",
       "      <th>screen_size</th>\n",
       "      <th>ROM</th>\n",
       "      <th>RAM</th>\n",
       "      <th>display_size</th>\n",
       "      <th>num_rear_camera</th>\n",
       "      <th>num_front_camera</th>\n",
       "      <th>battery_capacity</th>\n",
       "      <th>ratings</th>\n",
       "      <th>num_of_ratings</th>\n",
       "      <th>sales_price</th>\n",
       "      <th>discount_percent</th>\n",
       "      <th>sales</th>\n",
       "    </tr>\n",
       "  </thead>\n",
       "  <tbody>\n",
       "    <tr>\n",
       "      <th>0</th>\n",
       "      <td>0</td>\n",
       "      <td>117</td>\n",
       "      <td>0</td>\n",
       "      <td>4</td>\n",
       "      <td>4</td>\n",
       "      <td>64</td>\n",
       "      <td>4</td>\n",
       "      <td>4.7</td>\n",
       "      <td>1</td>\n",
       "      <td>1</td>\n",
       "      <td>1800</td>\n",
       "      <td>4.5</td>\n",
       "      <td>38645</td>\n",
       "      <td>32999</td>\n",
       "      <td>0.17</td>\n",
       "      <td>127.52</td>\n",
       "    </tr>\n",
       "    <tr>\n",
       "      <th>1</th>\n",
       "      <td>0</td>\n",
       "      <td>114</td>\n",
       "      <td>8</td>\n",
       "      <td>4</td>\n",
       "      <td>2</td>\n",
       "      <td>64</td>\n",
       "      <td>6</td>\n",
       "      <td>5.4</td>\n",
       "      <td>2</td>\n",
       "      <td>1</td>\n",
       "      <td>2815</td>\n",
       "      <td>4.5</td>\n",
       "      <td>244</td>\n",
       "      <td>57149</td>\n",
       "      <td>0.04</td>\n",
       "      <td>1.39</td>\n",
       "    </tr>\n",
       "    <tr>\n",
       "      <th>2</th>\n",
       "      <td>0</td>\n",
       "      <td>117</td>\n",
       "      <td>8</td>\n",
       "      <td>4</td>\n",
       "      <td>4</td>\n",
       "      <td>64</td>\n",
       "      <td>4</td>\n",
       "      <td>4.7</td>\n",
       "      <td>1</td>\n",
       "      <td>1</td>\n",
       "      <td>1800</td>\n",
       "      <td>4.5</td>\n",
       "      <td>38645</td>\n",
       "      <td>32999</td>\n",
       "      <td>0.17</td>\n",
       "      <td>127.52</td>\n",
       "    </tr>\n",
       "    <tr>\n",
       "      <th>3</th>\n",
       "      <td>0</td>\n",
       "      <td>118</td>\n",
       "      <td>6</td>\n",
       "      <td>4</td>\n",
       "      <td>1</td>\n",
       "      <td>64</td>\n",
       "      <td>4</td>\n",
       "      <td>6.1</td>\n",
       "      <td>1</td>\n",
       "      <td>1</td>\n",
       "      <td>2942</td>\n",
       "      <td>4.6</td>\n",
       "      <td>5366</td>\n",
       "      <td>42999</td>\n",
       "      <td>0.10</td>\n",
       "      <td>23.07</td>\n",
       "    </tr>\n",
       "    <tr>\n",
       "      <th>4</th>\n",
       "      <td>0</td>\n",
       "      <td>113</td>\n",
       "      <td>8</td>\n",
       "      <td>4</td>\n",
       "      <td>1</td>\n",
       "      <td>128</td>\n",
       "      <td>6</td>\n",
       "      <td>6.1</td>\n",
       "      <td>2</td>\n",
       "      <td>1</td>\n",
       "      <td>2815</td>\n",
       "      <td>4.6</td>\n",
       "      <td>745</td>\n",
       "      <td>69149</td>\n",
       "      <td>0.02</td>\n",
       "      <td>5.15</td>\n",
       "    </tr>\n",
       "  </tbody>\n",
       "</table>\n",
       "</div>"
      ],
      "text/plain": [
       "   brand  model  base_color  processor  screen_size  ROM  RAM  display_size  \\\n",
       "0      0    117           0          4            4   64    4           4.7   \n",
       "1      0    114           8          4            2   64    6           5.4   \n",
       "2      0    117           8          4            4   64    4           4.7   \n",
       "3      0    118           6          4            1   64    4           6.1   \n",
       "4      0    113           8          4            1  128    6           6.1   \n",
       "\n",
       "   num_rear_camera  num_front_camera  battery_capacity  ratings  \\\n",
       "0                1                 1              1800      4.5   \n",
       "1                2                 1              2815      4.5   \n",
       "2                1                 1              1800      4.5   \n",
       "3                1                 1              2942      4.6   \n",
       "4                2                 1              2815      4.6   \n",
       "\n",
       "   num_of_ratings  sales_price  discount_percent   sales  \n",
       "0           38645        32999              0.17  127.52  \n",
       "1             244        57149              0.04    1.39  \n",
       "2           38645        32999              0.17  127.52  \n",
       "3            5366        42999              0.10   23.07  \n",
       "4             745        69149              0.02    5.15  "
      ]
     },
     "execution_count": 22,
     "metadata": {},
     "output_type": "execute_result"
    }
   ],
   "source": [
    "file.head()"
   ]
  },
  {
   "cell_type": "code",
   "execution_count": 19,
   "id": "3911f5ee",
   "metadata": {},
   "outputs": [],
   "source": [
    "#map={'water':'iOS','Ceramic':'iOS','iOS':'iOS','Media Tek processor':'Media Tek processor}\n",
    "file['processor'].replace({'Water':'iOS','Ceramic':'iOS'},inplace=True)\n",
    "from sklearn.preprocessing import LabelEncoder\n",
    "cols=['brand','model','base_color','screen_size','processor']\n",
    "for i in cols:\n",
    "    le=LabelEncoder()\n",
    "    file[i]=le.fit_transform(file[i])"
   ]
  },
  {
   "cell_type": "code",
   "execution_count": 20,
   "id": "9702b9ff",
   "metadata": {},
   "outputs": [
    {
     "data": {
      "text/html": [
       "<div>\n",
       "<style scoped>\n",
       "    .dataframe tbody tr th:only-of-type {\n",
       "        vertical-align: middle;\n",
       "    }\n",
       "\n",
       "    .dataframe tbody tr th {\n",
       "        vertical-align: top;\n",
       "    }\n",
       "\n",
       "    .dataframe thead th {\n",
       "        text-align: right;\n",
       "    }\n",
       "</style>\n",
       "<table border=\"1\" class=\"dataframe\">\n",
       "  <thead>\n",
       "    <tr style=\"text-align: right;\">\n",
       "      <th></th>\n",
       "      <th>brand</th>\n",
       "      <th>model</th>\n",
       "      <th>base_color</th>\n",
       "      <th>processor</th>\n",
       "      <th>screen_size</th>\n",
       "      <th>ROM</th>\n",
       "      <th>RAM</th>\n",
       "      <th>display_size</th>\n",
       "      <th>num_rear_camera</th>\n",
       "      <th>num_front_camera</th>\n",
       "      <th>battery_capacity</th>\n",
       "      <th>ratings</th>\n",
       "      <th>num_of_ratings</th>\n",
       "      <th>sales_price</th>\n",
       "      <th>discount_percent</th>\n",
       "      <th>sales</th>\n",
       "    </tr>\n",
       "  </thead>\n",
       "  <tbody>\n",
       "    <tr>\n",
       "      <th>0</th>\n",
       "      <td>0</td>\n",
       "      <td>117</td>\n",
       "      <td>0</td>\n",
       "      <td>4</td>\n",
       "      <td>4</td>\n",
       "      <td>64</td>\n",
       "      <td>4</td>\n",
       "      <td>4.7</td>\n",
       "      <td>1</td>\n",
       "      <td>1</td>\n",
       "      <td>1800</td>\n",
       "      <td>4.5</td>\n",
       "      <td>38645</td>\n",
       "      <td>32999</td>\n",
       "      <td>0.17</td>\n",
       "      <td>127.52</td>\n",
       "    </tr>\n",
       "    <tr>\n",
       "      <th>1</th>\n",
       "      <td>0</td>\n",
       "      <td>114</td>\n",
       "      <td>8</td>\n",
       "      <td>4</td>\n",
       "      <td>2</td>\n",
       "      <td>64</td>\n",
       "      <td>6</td>\n",
       "      <td>5.4</td>\n",
       "      <td>2</td>\n",
       "      <td>1</td>\n",
       "      <td>2815</td>\n",
       "      <td>4.5</td>\n",
       "      <td>244</td>\n",
       "      <td>57149</td>\n",
       "      <td>0.04</td>\n",
       "      <td>1.39</td>\n",
       "    </tr>\n",
       "    <tr>\n",
       "      <th>2</th>\n",
       "      <td>0</td>\n",
       "      <td>117</td>\n",
       "      <td>8</td>\n",
       "      <td>4</td>\n",
       "      <td>4</td>\n",
       "      <td>64</td>\n",
       "      <td>4</td>\n",
       "      <td>4.7</td>\n",
       "      <td>1</td>\n",
       "      <td>1</td>\n",
       "      <td>1800</td>\n",
       "      <td>4.5</td>\n",
       "      <td>38645</td>\n",
       "      <td>32999</td>\n",
       "      <td>0.17</td>\n",
       "      <td>127.52</td>\n",
       "    </tr>\n",
       "    <tr>\n",
       "      <th>3</th>\n",
       "      <td>0</td>\n",
       "      <td>118</td>\n",
       "      <td>6</td>\n",
       "      <td>4</td>\n",
       "      <td>1</td>\n",
       "      <td>64</td>\n",
       "      <td>4</td>\n",
       "      <td>6.1</td>\n",
       "      <td>1</td>\n",
       "      <td>1</td>\n",
       "      <td>2942</td>\n",
       "      <td>4.6</td>\n",
       "      <td>5366</td>\n",
       "      <td>42999</td>\n",
       "      <td>0.10</td>\n",
       "      <td>23.07</td>\n",
       "    </tr>\n",
       "    <tr>\n",
       "      <th>4</th>\n",
       "      <td>0</td>\n",
       "      <td>113</td>\n",
       "      <td>8</td>\n",
       "      <td>4</td>\n",
       "      <td>1</td>\n",
       "      <td>128</td>\n",
       "      <td>6</td>\n",
       "      <td>6.1</td>\n",
       "      <td>2</td>\n",
       "      <td>1</td>\n",
       "      <td>2815</td>\n",
       "      <td>4.6</td>\n",
       "      <td>745</td>\n",
       "      <td>69149</td>\n",
       "      <td>0.02</td>\n",
       "      <td>5.15</td>\n",
       "    </tr>\n",
       "    <tr>\n",
       "      <th>425</th>\n",
       "      <td>4</td>\n",
       "      <td>91</td>\n",
       "      <td>0</td>\n",
       "      <td>3</td>\n",
       "      <td>2</td>\n",
       "      <td>32</td>\n",
       "      <td>4</td>\n",
       "      <td>5.8</td>\n",
       "      <td>2</td>\n",
       "      <td>1</td>\n",
       "      <td>4000</td>\n",
       "      <td>4.3</td>\n",
       "      <td>1870</td>\n",
       "      <td>7999</td>\n",
       "      <td>0.30</td>\n",
       "      <td>1.50</td>\n",
       "    </tr>\n",
       "    <tr>\n",
       "      <th>426</th>\n",
       "      <td>4</td>\n",
       "      <td>91</td>\n",
       "      <td>8</td>\n",
       "      <td>3</td>\n",
       "      <td>2</td>\n",
       "      <td>64</td>\n",
       "      <td>4</td>\n",
       "      <td>5.8</td>\n",
       "      <td>2</td>\n",
       "      <td>1</td>\n",
       "      <td>4000</td>\n",
       "      <td>4.3</td>\n",
       "      <td>1783</td>\n",
       "      <td>9699</td>\n",
       "      <td>0.28</td>\n",
       "      <td>1.73</td>\n",
       "    </tr>\n",
       "    <tr>\n",
       "      <th>427</th>\n",
       "      <td>4</td>\n",
       "      <td>76</td>\n",
       "      <td>6</td>\n",
       "      <td>3</td>\n",
       "      <td>0</td>\n",
       "      <td>128</td>\n",
       "      <td>6</td>\n",
       "      <td>6.5</td>\n",
       "      <td>3</td>\n",
       "      <td>1</td>\n",
       "      <td>4250</td>\n",
       "      <td>4.2</td>\n",
       "      <td>1554</td>\n",
       "      <td>21999</td>\n",
       "      <td>0.12</td>\n",
       "      <td>3.42</td>\n",
       "    </tr>\n",
       "    <tr>\n",
       "      <th>428</th>\n",
       "      <td>4</td>\n",
       "      <td>93</td>\n",
       "      <td>1</td>\n",
       "      <td>3</td>\n",
       "      <td>1</td>\n",
       "      <td>32</td>\n",
       "      <td>4</td>\n",
       "      <td>6.2</td>\n",
       "      <td>2</td>\n",
       "      <td>1</td>\n",
       "      <td>5000</td>\n",
       "      <td>4.2</td>\n",
       "      <td>8161</td>\n",
       "      <td>8299</td>\n",
       "      <td>0.07</td>\n",
       "      <td>6.77</td>\n",
       "    </tr>\n",
       "    <tr>\n",
       "      <th>429</th>\n",
       "      <td>4</td>\n",
       "      <td>91</td>\n",
       "      <td>1</td>\n",
       "      <td>3</td>\n",
       "      <td>2</td>\n",
       "      <td>32</td>\n",
       "      <td>4</td>\n",
       "      <td>5.8</td>\n",
       "      <td>2</td>\n",
       "      <td>1</td>\n",
       "      <td>4000</td>\n",
       "      <td>4.3</td>\n",
       "      <td>1870</td>\n",
       "      <td>8190</td>\n",
       "      <td>0.36</td>\n",
       "      <td>1.53</td>\n",
       "    </tr>\n",
       "  </tbody>\n",
       "</table>\n",
       "</div>"
      ],
      "text/plain": [
       "     brand  model  base_color  processor  screen_size  ROM  RAM  display_size  \\\n",
       "0        0    117           0          4            4   64    4           4.7   \n",
       "1        0    114           8          4            2   64    6           5.4   \n",
       "2        0    117           8          4            4   64    4           4.7   \n",
       "3        0    118           6          4            1   64    4           6.1   \n",
       "4        0    113           8          4            1  128    6           6.1   \n",
       "425      4     91           0          3            2   32    4           5.8   \n",
       "426      4     91           8          3            2   64    4           5.8   \n",
       "427      4     76           6          3            0  128    6           6.5   \n",
       "428      4     93           1          3            1   32    4           6.2   \n",
       "429      4     91           1          3            2   32    4           5.8   \n",
       "\n",
       "     num_rear_camera  num_front_camera  battery_capacity  ratings  \\\n",
       "0                  1                 1              1800      4.5   \n",
       "1                  2                 1              2815      4.5   \n",
       "2                  1                 1              1800      4.5   \n",
       "3                  1                 1              2942      4.6   \n",
       "4                  2                 1              2815      4.6   \n",
       "425                2                 1              4000      4.3   \n",
       "426                2                 1              4000      4.3   \n",
       "427                3                 1              4250      4.2   \n",
       "428                2                 1              5000      4.2   \n",
       "429                2                 1              4000      4.3   \n",
       "\n",
       "     num_of_ratings  sales_price  discount_percent   sales  \n",
       "0             38645        32999              0.17  127.52  \n",
       "1               244        57149              0.04    1.39  \n",
       "2             38645        32999              0.17  127.52  \n",
       "3              5366        42999              0.10   23.07  \n",
       "4               745        69149              0.02    5.15  \n",
       "425            1870         7999              0.30    1.50  \n",
       "426            1783         9699              0.28    1.73  \n",
       "427            1554        21999              0.12    3.42  \n",
       "428            8161         8299              0.07    6.77  \n",
       "429            1870         8190              0.36    1.53  "
      ]
     },
     "execution_count": 20,
     "metadata": {},
     "output_type": "execute_result"
    }
   ],
   "source": [
    "file.head().append(file.tail())"
   ]
  },
  {
   "cell_type": "code",
   "execution_count": 21,
   "id": "3aa0eb1a",
   "metadata": {},
   "outputs": [
    {
     "name": "stdout",
     "output_type": "stream",
     "text": [
      "[0 1 2 3 4]\n",
      "[ 0  8  6  1 10  5  7 11  3  2  9  4]\n"
     ]
    }
   ],
   "source": [
    "print(file['brand'].unique())\n",
    "print(file[\"base_color\"].unique())"
   ]
  },
  {
   "cell_type": "markdown",
   "id": "c2f65a32",
   "metadata": {},
   "source": [
    "<H4> SPLITTING AND CREATING THE TEST TRAIN MODEL"
   ]
  },
  {
   "cell_type": "code",
   "execution_count": 23,
   "id": "0686c67a",
   "metadata": {},
   "outputs": [],
   "source": [
    "X=file.drop(['sales_price'],axis=1)\n",
    "y=file['sales_price']\n",
    "from sklearn.model_selection import train_test_split\n",
    "X_train,X_test,y_train,y_test=train_test_split(X,y,test_size=0.2,random_state=42)"
   ]
  },
  {
   "cell_type": "code",
   "execution_count": 24,
   "id": "02db3769",
   "metadata": {},
   "outputs": [
    {
     "data": {
      "text/plain": [
       "LinearRegression()"
      ]
     },
     "execution_count": 24,
     "metadata": {},
     "output_type": "execute_result"
    }
   ],
   "source": [
    "from sklearn.linear_model import LinearRegression\n",
    "lr=LinearRegression()\n",
    "lr.fit(X_train,y_train)"
   ]
  },
  {
   "cell_type": "code",
   "execution_count": 26,
   "id": "5c480d34",
   "metadata": {},
   "outputs": [
    {
     "name": "stdout",
     "output_type": "stream",
     "text": [
      "Error is :  11934.645127991758\n"
     ]
    }
   ],
   "source": [
    "import numpy\n",
    "from sklearn.metrics import mean_squared_error\n",
    "print('Error is : ',np.sqrt(mean_squared_error(y_test,lr.predict(X_test))))"
   ]
  },
  {
   "cell_type": "code",
   "execution_count": 27,
   "id": "184b8bc3",
   "metadata": {},
   "outputs": [
    {
     "data": {
      "text/plain": [
       "<AxesSubplot:xlabel='sales_price', ylabel='Density'>"
      ]
     },
     "execution_count": 27,
     "metadata": {},
     "output_type": "execute_result"
    },
    {
     "data": {
      "image/png": "[encoded data removed]",
      "text/plain": [
       "<Figure size 432x288 with 1 Axes>"
      ]
     },
     "metadata": {
      "needs_background": "light"
     },
     "output_type": "display_data"
    }
   ],
   "source": [
    "sns.distplot(y_test-lr.predict(X_test))"
   ]
  },
  {
   "cell_type": "code",
   "execution_count": 28,
   "id": "40859932",
   "metadata": {},
   "outputs": [
    {
     "data": {
      "text/plain": [
       "<matplotlib.collections.PathCollection at 0x1e55af6c4c0>"
      ]
     },
     "execution_count": 28,
     "metadata": {},
     "output_type": "execute_result"
    },
    {
     "data": {
      "image/png": "[encoded data removed]",
      "text/plain": [
       "<Figure size 432x288 with 1 Axes>"
      ]
     },
     "metadata": {
      "needs_background": "light"
     },
     "output_type": "display_data"
    }
   ],
   "source": [
    "plt.scatter(y_test,lr.predict(X_test))"
   ]
  },
  {
   "cell_type": "markdown",
   "id": "74177320",
   "metadata": {},
   "source": [
    "<H4> FINDING ERRORS MAE, MSE, RMSE"
   ]
  },
  {
   "cell_type": "code",
   "execution_count": 29,
   "id": "68a0e6f7",
   "metadata": {},
   "outputs": [
    {
     "name": "stdout",
     "output_type": "stream",
     "text": [
      "MAE: 9087.512116047965\n",
      "MSE: 142435754.3310974\n",
      "RMSE: 11934.645127991758\n"
     ]
    }
   ],
   "source": [
    "predictions = lr.predict(X_test)\n",
    "from sklearn import metrics\n",
    "print('MAE:', metrics.mean_absolute_error(y_test, predictions))\n",
    "print('MSE:', metrics.mean_squared_error(y_test, predictions))\n",
    "print('RMSE:', np.sqrt(metrics.mean_squared_error(y_test, predictions)))"
   ]
  },
  {
   "cell_type": "code",
   "execution_count": 30,
   "id": "36f29742",
   "metadata": {},
   "outputs": [
    {
     "data": {
      "text/plain": [
       "array([59320.58993445])"
      ]
     },
     "execution_count": 30,
     "metadata": {},
     "output_type": "execute_result"
    }
   ],
   "source": [
    "lr.predict([[1,107,0,0,1,256,4,6.5,3,1,4250,4.7,500,0.2,40]])"
   ]
  },
  {
   "cell_type": "code",
   "execution_count": null,
   "id": "172857fd",
   "metadata": {},
   "outputs": [],
   "source": [
    "brand \tmodel \tbase_color \tprocessor \tscreen_size \tROM \tRAM \tdisplay_size \tnum_rear_camera \tnum_front_camera \tbattery_capacity \tratings \tnum_of_ratings \tsales_price \tdiscount_percent \tsales"
   ]
  }
 ],
 "metadata": {
  "kernelspec": {
   "display_name": "Python 3 (ipykernel)",
   "language": "python",
   "name": "python3"
  },
  "language_info": {
   "codemirror_mode": {
    "name": "ipython",
    "version": 3
   },
   "file_extension": ".py",
   "mimetype": "text/x-python",
   "name": "python",
   "nbconvert_exporter": "python",
   "pygments_lexer": "ipython3",
   "version": "3.9.7"
  }
 },
 "nbformat": 4,
 "nbformat_minor": 5
}
